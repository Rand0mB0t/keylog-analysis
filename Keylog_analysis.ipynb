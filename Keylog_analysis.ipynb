{
  "nbformat": 4,
  "nbformat_minor": 0,
  "metadata": {
    "colab": {
      "name": "Keylog_analysis.ipynb",
      "provenance": [],
      "collapsed_sections": [],
      "toc_visible": true,
      "mount_file_id": "1YN60_VZCTQYNjV-S-lLM18x09oWYBT6p",
      "authorship_tag": "ABX9TyPrYEHUcXZZLcBZrOuKX1x3",
      "include_colab_link": true
    },
    "kernelspec": {
      "name": "python3",
      "display_name": "Python 3"
    }
  },
  "cells": [
    {
      "cell_type": "markdown",
      "metadata": {
        "id": "view-in-github",
        "colab_type": "text"
      },
      "source": [
        "<a href=\"https://colab.research.google.com/github/Rand0mB0t/keylog-analysis/blob/master/Keylog_analysis.ipynb\" target=\"_parent\"><img src=\"https://colab.research.google.com/assets/colab-badge.svg\" alt=\"Open In Colab\"/></a>"
      ]
    },
    {
      "cell_type": "markdown",
      "metadata": {
        "id": "zTcDVICF_OuF",
        "colab_type": "text"
      },
      "source": [
        "#Key Log Data Exploration"
      ]
    },
    {
      "cell_type": "markdown",
      "metadata": {
        "id": "xqZq05Am_jjt",
        "colab_type": "text"
      },
      "source": [
        "I Have been collecting my keylog data from my office laptop since last three months , I started from last year late october so now I have accumulated keylog data for almost 4 months .  This is my first data exploration personal project. I am not sure about this but I think 4 months of data would be a good enough amount of data to call it a dataset, and to start exploratory analysis on this.\n"
      ]
    },
    {
      "cell_type": "markdown",
      "metadata": {
        "id": "P68TsrS3K7f-",
        "colab_type": "text"
      },
      "source": [
        "Lets get started with it."
      ]
    },
    {
      "cell_type": "markdown",
      "metadata": {
        "id": "2zV_Wto0LX4x",
        "colab_type": "text"
      },
      "source": [
        "Let's do some imports first"
      ]
    },
    {
      "cell_type": "code",
      "metadata": {
        "id": "miQ1zLm89mNK",
        "colab_type": "code",
        "colab": {}
      },
      "source": [
        "import pandas as pd\n",
        "import numpy as np"
      ],
      "execution_count": 0,
      "outputs": []
    },
    {
      "cell_type": "markdown",
      "metadata": {
        "id": "22EDVc6ALiyD",
        "colab_type": "text"
      },
      "source": [
        "*The dataset is in my personal google drive , I do not want to expose my keystrokes to the world :p* and I am using google colab notebook to perform the data exploration and It has a very cool feature to link your google drive to it, so I have uploaded my dataset to my google drive and now accessing it from collab. So I can continue my exploration whenever and wherever I want, as long as I have access to a computer and internet connection."
      ]
    },
    {
      "cell_type": "markdown",
      "metadata": {
        "id": "7n32WqzhODJI",
        "colab_type": "text"
      },
      "source": [
        "**First thing first** Lets have a look at the dataset, How it looks in its file. "
      ]
    },
    {
      "cell_type": "code",
      "metadata": {
        "id": "RF-mjH-IMhM1",
        "colab_type": "code",
        "outputId": "a5014814-e55c-45a7-9adb-49b0665918ba",
        "colab": {
          "base_uri": "https://localhost:8080/",
          "height": 185
        }
      },
      "source": [
        "!head '/content/drive/My Drive/keylog_analysis/keyLog_20200223T130834.log'"
      ],
      "execution_count": 2,
      "outputs": [
        {
          "output_type": "stream",
          "text": [
            "2019-10-28 18:47:31,596:Key.space\r\n",
            "2019-10-28 18:47:32,392:Key.space\r\n",
            "2019-10-28 18:47:34,802:'t'\r\n",
            "2019-10-28 18:47:34,980:'h'\r\n",
            "2019-10-28 18:47:35,018:'i'\r\n",
            "2019-10-28 18:47:35,253:'s'\r\n",
            "2019-10-28 18:47:43,463:Key.alt_l\r\n",
            "2019-10-28 18:47:43,619:Key.up\r\n",
            "2019-10-28 18:47:44,136:Key.alt_l\r\n",
            "2019-10-28 18:47:44,791:Key.left\r\n"
          ],
          "name": "stdout"
        }
      ]
    },
    {
      "cell_type": "markdown",
      "metadata": {
        "id": "wkPE_8aCOOsD",
        "colab_type": "text"
      },
      "source": [
        "Okay, So It looks like we can classify this dataset as a CSV and we have to understand what is the delimiter in this dataset. These are the things in dataset  that I see :\n",
        "\n",
        "\n",
        "*   Date\n",
        "*   Time\n",
        "*   A comma separated number , I do not know what it is\n",
        "*   and at last our keystroke information\n",
        "\n",
        "After seeing this data one thing is for sure, It is a **time-series** data.\n",
        "\n",
        "So, I know the code I wrote for logging this data , is just logging **time:keystroke** . With this knowledge about the data, I can be sure that there are really two parts to this data, and now I know what that comma separtaed value could be, It is milliseconds.\n",
        "\n",
        "Lets write again what we see in our dataset:\n",
        "*  DateTime\n",
        "*  Keystroke\n",
        "\n",
        "and these two things are separated by a colon **:** .\n",
        "\n",
        "But there is one issue now, the timestamp contains **:** for separating the \n",
        "Time. I have to figure out how to read this dataset with two columns providing the correct delimiter because if I provide colon as a delimiter then I would get these columns \n",
        "1. Date with Hour\n",
        "2. minutes\n",
        "3. seconds with milliseconds\n",
        "4. keystroke\n",
        "\n",
        "Well, I can handle this, I'll load it with colon as delimiter and then merge\n",
        "first 3 columns as timestamp and leave keystroke as it is. This way I would be left with just two columns that I require\n",
        "1. Timestamp \n",
        "2. Keystroke\n",
        "\n",
        "Enough talking , Let's get on to loading the data .  Yaaay!!\n",
        "\n",
        "\n"
      ]
    },
    {
      "cell_type": "code",
      "metadata": {
        "id": "298SguFqLW6q",
        "colab_type": "code",
        "colab": {}
      },
      "source": [
        "DATASET_LOCATION = '/content/drive/My Drive/keylog_analysis/keyLog_20200223T130834.log'"
      ],
      "execution_count": 0,
      "outputs": []
    },
    {
      "cell_type": "markdown",
      "metadata": {
        "id": "R4wkD5zYMQC-",
        "colab_type": "text"
      },
      "source": [
        "Now I have the location of my dataset in a variable so that I do not have to remember the location or type in everytime I run the notebook \n",
        "and also , If I happen to change the location of the dataset or try to reuse this notebook for some other dataset, I just have to update the location here.\n",
        "\n",
        "\n"
      ]
    },
    {
      "cell_type": "code",
      "metadata": {
        "id": "cffai9ACMyfN",
        "colab_type": "code",
        "colab": {}
      },
      "source": [
        "KEYLOG_DF = pd.read_csv(DATASET_LOCATION, delimiter=':')"
      ],
      "execution_count": 0,
      "outputs": []
    },
    {
      "cell_type": "markdown",
      "metadata": {
        "id": "jciNMm_HR1GA",
        "colab_type": "text"
      },
      "source": [
        "Lets Have a look at what we loaded"
      ]
    },
    {
      "cell_type": "code",
      "metadata": {
        "id": "LaRUml3iRyL6",
        "colab_type": "code",
        "outputId": "a45678d9-f0f6-4ffc-802a-2bee61f01cb3",
        "colab": {
          "base_uri": "https://localhost:8080/",
          "height": 195
        }
      },
      "source": [
        "KEYLOG_DF.head()"
      ],
      "execution_count": 5,
      "outputs": [
        {
          "output_type": "execute_result",
          "data": {
            "text/html": [
              "<div>\n",
              "<style scoped>\n",
              "    .dataframe tbody tr th:only-of-type {\n",
              "        vertical-align: middle;\n",
              "    }\n",
              "\n",
              "    .dataframe tbody tr th {\n",
              "        vertical-align: top;\n",
              "    }\n",
              "\n",
              "    .dataframe thead th {\n",
              "        text-align: right;\n",
              "    }\n",
              "</style>\n",
              "<table border=\"1\" class=\"dataframe\">\n",
              "  <thead>\n",
              "    <tr style=\"text-align: right;\">\n",
              "      <th></th>\n",
              "      <th>2019-10-28 18</th>\n",
              "      <th>47</th>\n",
              "      <th>31,596</th>\n",
              "      <th>Key.space</th>\n",
              "    </tr>\n",
              "  </thead>\n",
              "  <tbody>\n",
              "    <tr>\n",
              "      <th>0</th>\n",
              "      <td>2019-10-28 18</td>\n",
              "      <td>47</td>\n",
              "      <td>32,392</td>\n",
              "      <td>Key.space</td>\n",
              "    </tr>\n",
              "    <tr>\n",
              "      <th>1</th>\n",
              "      <td>2019-10-28 18</td>\n",
              "      <td>47</td>\n",
              "      <td>34,802</td>\n",
              "      <td>'t'</td>\n",
              "    </tr>\n",
              "    <tr>\n",
              "      <th>2</th>\n",
              "      <td>2019-10-28 18</td>\n",
              "      <td>47</td>\n",
              "      <td>34,980</td>\n",
              "      <td>'h'</td>\n",
              "    </tr>\n",
              "    <tr>\n",
              "      <th>3</th>\n",
              "      <td>2019-10-28 18</td>\n",
              "      <td>47</td>\n",
              "      <td>35,018</td>\n",
              "      <td>'i'</td>\n",
              "    </tr>\n",
              "    <tr>\n",
              "      <th>4</th>\n",
              "      <td>2019-10-28 18</td>\n",
              "      <td>47</td>\n",
              "      <td>35,253</td>\n",
              "      <td>'s'</td>\n",
              "    </tr>\n",
              "  </tbody>\n",
              "</table>\n",
              "</div>"
            ],
            "text/plain": [
              "   2019-10-28 18  47  31,596  Key.space\n",
              "0  2019-10-28 18  47  32,392  Key.space\n",
              "1  2019-10-28 18  47  34,802        't'\n",
              "2  2019-10-28 18  47  34,980        'h'\n",
              "3  2019-10-28 18  47  35,018        'i'\n",
              "4  2019-10-28 18  47  35,253        's'"
            ]
          },
          "metadata": {
            "tags": []
          },
          "execution_count": 5
        }
      ]
    },
    {
      "cell_type": "markdown",
      "metadata": {
        "id": "XJH_z0vpR9IW",
        "colab_type": "text"
      },
      "source": [
        "There are no headers in my dataset, Lets reload it with the headers that I decided upon ( Date with Hour, minute, seconds with millisecond and keystroke )"
      ]
    },
    {
      "cell_type": "code",
      "metadata": {
        "id": "BZ9TN4RUSN5O",
        "colab_type": "code",
        "colab": {}
      },
      "source": [
        "header = ['Date_with_hour','minute','second_with_millisecond','keystroke']\n",
        "KEYLOG_DF = pd.read_csv(DATASET_LOCATION, delimiter=':', names=header)"
      ],
      "execution_count": 0,
      "outputs": []
    },
    {
      "cell_type": "code",
      "metadata": {
        "id": "ZtL4UdSLSjdX",
        "colab_type": "code",
        "outputId": "2cf2d5a6-0179-4808-c30d-3d3967051b31",
        "colab": {
          "base_uri": "https://localhost:8080/",
          "height": 195
        }
      },
      "source": [
        "KEYLOG_DF.head()"
      ],
      "execution_count": 7,
      "outputs": [
        {
          "output_type": "execute_result",
          "data": {
            "text/html": [
              "<div>\n",
              "<style scoped>\n",
              "    .dataframe tbody tr th:only-of-type {\n",
              "        vertical-align: middle;\n",
              "    }\n",
              "\n",
              "    .dataframe tbody tr th {\n",
              "        vertical-align: top;\n",
              "    }\n",
              "\n",
              "    .dataframe thead th {\n",
              "        text-align: right;\n",
              "    }\n",
              "</style>\n",
              "<table border=\"1\" class=\"dataframe\">\n",
              "  <thead>\n",
              "    <tr style=\"text-align: right;\">\n",
              "      <th></th>\n",
              "      <th>Date_with_hour</th>\n",
              "      <th>minute</th>\n",
              "      <th>second_with_millisecond</th>\n",
              "      <th>keystroke</th>\n",
              "    </tr>\n",
              "  </thead>\n",
              "  <tbody>\n",
              "    <tr>\n",
              "      <th>0</th>\n",
              "      <td>2019-10-28 18</td>\n",
              "      <td>47</td>\n",
              "      <td>31,596</td>\n",
              "      <td>Key.space</td>\n",
              "    </tr>\n",
              "    <tr>\n",
              "      <th>1</th>\n",
              "      <td>2019-10-28 18</td>\n",
              "      <td>47</td>\n",
              "      <td>32,392</td>\n",
              "      <td>Key.space</td>\n",
              "    </tr>\n",
              "    <tr>\n",
              "      <th>2</th>\n",
              "      <td>2019-10-28 18</td>\n",
              "      <td>47</td>\n",
              "      <td>34,802</td>\n",
              "      <td>'t'</td>\n",
              "    </tr>\n",
              "    <tr>\n",
              "      <th>3</th>\n",
              "      <td>2019-10-28 18</td>\n",
              "      <td>47</td>\n",
              "      <td>34,980</td>\n",
              "      <td>'h'</td>\n",
              "    </tr>\n",
              "    <tr>\n",
              "      <th>4</th>\n",
              "      <td>2019-10-28 18</td>\n",
              "      <td>47</td>\n",
              "      <td>35,018</td>\n",
              "      <td>'i'</td>\n",
              "    </tr>\n",
              "  </tbody>\n",
              "</table>\n",
              "</div>"
            ],
            "text/plain": [
              "  Date_with_hour  minute second_with_millisecond  keystroke\n",
              "0  2019-10-28 18      47                  31,596  Key.space\n",
              "1  2019-10-28 18      47                  32,392  Key.space\n",
              "2  2019-10-28 18      47                  34,802        't'\n",
              "3  2019-10-28 18      47                  34,980        'h'\n",
              "4  2019-10-28 18      47                  35,018        'i'"
            ]
          },
          "metadata": {
            "tags": []
          },
          "execution_count": 7
        }
      ]
    },
    {
      "cell_type": "markdown",
      "metadata": {
        "id": "CmZ7E8y6ULRL",
        "colab_type": "text"
      },
      "source": [
        "First, Lets separate hour from Date"
      ]
    },
    {
      "cell_type": "code",
      "metadata": {
        "id": "YqZuBXxTUOXp",
        "colab_type": "code",
        "outputId": "799205e1-6723-4a4a-f866-a27517c491b7",
        "colab": {
          "base_uri": "https://localhost:8080/",
          "height": 195
        }
      },
      "source": [
        "KEYLOG_DF['date'] = KEYLOG_DF['Date_with_hour'].apply(lambda x: x.split()[0])\n",
        "KEYLOG_DF['hour'] = KEYLOG_DF['Date_with_hour'].apply(lambda x: x.split()[1])\n",
        "KEYLOG_DF['second'] = KEYLOG_DF['second_with_millisecond'].apply(lambda x: x.split(',')[0])\n",
        "KEYLOG_DF['millisecond'] = KEYLOG_DF['second_with_millisecond'].apply(lambda x: x.split(',')[1])\n",
        "KEYLOG_DF.head()"
      ],
      "execution_count": 8,
      "outputs": [
        {
          "output_type": "execute_result",
          "data": {
            "text/html": [
              "<div>\n",
              "<style scoped>\n",
              "    .dataframe tbody tr th:only-of-type {\n",
              "        vertical-align: middle;\n",
              "    }\n",
              "\n",
              "    .dataframe tbody tr th {\n",
              "        vertical-align: top;\n",
              "    }\n",
              "\n",
              "    .dataframe thead th {\n",
              "        text-align: right;\n",
              "    }\n",
              "</style>\n",
              "<table border=\"1\" class=\"dataframe\">\n",
              "  <thead>\n",
              "    <tr style=\"text-align: right;\">\n",
              "      <th></th>\n",
              "      <th>Date_with_hour</th>\n",
              "      <th>minute</th>\n",
              "      <th>second_with_millisecond</th>\n",
              "      <th>keystroke</th>\n",
              "      <th>date</th>\n",
              "      <th>hour</th>\n",
              "      <th>second</th>\n",
              "      <th>millisecond</th>\n",
              "    </tr>\n",
              "  </thead>\n",
              "  <tbody>\n",
              "    <tr>\n",
              "      <th>0</th>\n",
              "      <td>2019-10-28 18</td>\n",
              "      <td>47</td>\n",
              "      <td>31,596</td>\n",
              "      <td>Key.space</td>\n",
              "      <td>2019-10-28</td>\n",
              "      <td>18</td>\n",
              "      <td>31</td>\n",
              "      <td>596</td>\n",
              "    </tr>\n",
              "    <tr>\n",
              "      <th>1</th>\n",
              "      <td>2019-10-28 18</td>\n",
              "      <td>47</td>\n",
              "      <td>32,392</td>\n",
              "      <td>Key.space</td>\n",
              "      <td>2019-10-28</td>\n",
              "      <td>18</td>\n",
              "      <td>32</td>\n",
              "      <td>392</td>\n",
              "    </tr>\n",
              "    <tr>\n",
              "      <th>2</th>\n",
              "      <td>2019-10-28 18</td>\n",
              "      <td>47</td>\n",
              "      <td>34,802</td>\n",
              "      <td>'t'</td>\n",
              "      <td>2019-10-28</td>\n",
              "      <td>18</td>\n",
              "      <td>34</td>\n",
              "      <td>802</td>\n",
              "    </tr>\n",
              "    <tr>\n",
              "      <th>3</th>\n",
              "      <td>2019-10-28 18</td>\n",
              "      <td>47</td>\n",
              "      <td>34,980</td>\n",
              "      <td>'h'</td>\n",
              "      <td>2019-10-28</td>\n",
              "      <td>18</td>\n",
              "      <td>34</td>\n",
              "      <td>980</td>\n",
              "    </tr>\n",
              "    <tr>\n",
              "      <th>4</th>\n",
              "      <td>2019-10-28 18</td>\n",
              "      <td>47</td>\n",
              "      <td>35,018</td>\n",
              "      <td>'i'</td>\n",
              "      <td>2019-10-28</td>\n",
              "      <td>18</td>\n",
              "      <td>35</td>\n",
              "      <td>018</td>\n",
              "    </tr>\n",
              "  </tbody>\n",
              "</table>\n",
              "</div>"
            ],
            "text/plain": [
              "  Date_with_hour  minute second_with_millisecond  ... hour second millisecond\n",
              "0  2019-10-28 18      47                  31,596  ...   18     31         596\n",
              "1  2019-10-28 18      47                  32,392  ...   18     32         392\n",
              "2  2019-10-28 18      47                  34,802  ...   18     34         802\n",
              "3  2019-10-28 18      47                  34,980  ...   18     34         980\n",
              "4  2019-10-28 18      47                  35,018  ...   18     35         018\n",
              "\n",
              "[5 rows x 8 columns]"
            ]
          },
          "metadata": {
            "tags": []
          },
          "execution_count": 8
        }
      ]
    },
    {
      "cell_type": "code",
      "metadata": {
        "id": "X5NObYAWVdAL",
        "colab_type": "code",
        "outputId": "f667c162-34ba-442c-8a6f-a9c5fd22ab76",
        "colab": {
          "base_uri": "https://localhost:8080/",
          "height": 195
        }
      },
      "source": [
        "# Lets drop the unused column\n",
        "KEYLOG_DF.drop(['Date_with_hour', 'second_with_millisecond'], axis=1, inplace=True)\n",
        "KEYLOG_DF.head()"
      ],
      "execution_count": 9,
      "outputs": [
        {
          "output_type": "execute_result",
          "data": {
            "text/html": [
              "<div>\n",
              "<style scoped>\n",
              "    .dataframe tbody tr th:only-of-type {\n",
              "        vertical-align: middle;\n",
              "    }\n",
              "\n",
              "    .dataframe tbody tr th {\n",
              "        vertical-align: top;\n",
              "    }\n",
              "\n",
              "    .dataframe thead th {\n",
              "        text-align: right;\n",
              "    }\n",
              "</style>\n",
              "<table border=\"1\" class=\"dataframe\">\n",
              "  <thead>\n",
              "    <tr style=\"text-align: right;\">\n",
              "      <th></th>\n",
              "      <th>minute</th>\n",
              "      <th>keystroke</th>\n",
              "      <th>date</th>\n",
              "      <th>hour</th>\n",
              "      <th>second</th>\n",
              "      <th>millisecond</th>\n",
              "    </tr>\n",
              "  </thead>\n",
              "  <tbody>\n",
              "    <tr>\n",
              "      <th>0</th>\n",
              "      <td>47</td>\n",
              "      <td>Key.space</td>\n",
              "      <td>2019-10-28</td>\n",
              "      <td>18</td>\n",
              "      <td>31</td>\n",
              "      <td>596</td>\n",
              "    </tr>\n",
              "    <tr>\n",
              "      <th>1</th>\n",
              "      <td>47</td>\n",
              "      <td>Key.space</td>\n",
              "      <td>2019-10-28</td>\n",
              "      <td>18</td>\n",
              "      <td>32</td>\n",
              "      <td>392</td>\n",
              "    </tr>\n",
              "    <tr>\n",
              "      <th>2</th>\n",
              "      <td>47</td>\n",
              "      <td>'t'</td>\n",
              "      <td>2019-10-28</td>\n",
              "      <td>18</td>\n",
              "      <td>34</td>\n",
              "      <td>802</td>\n",
              "    </tr>\n",
              "    <tr>\n",
              "      <th>3</th>\n",
              "      <td>47</td>\n",
              "      <td>'h'</td>\n",
              "      <td>2019-10-28</td>\n",
              "      <td>18</td>\n",
              "      <td>34</td>\n",
              "      <td>980</td>\n",
              "    </tr>\n",
              "    <tr>\n",
              "      <th>4</th>\n",
              "      <td>47</td>\n",
              "      <td>'i'</td>\n",
              "      <td>2019-10-28</td>\n",
              "      <td>18</td>\n",
              "      <td>35</td>\n",
              "      <td>018</td>\n",
              "    </tr>\n",
              "  </tbody>\n",
              "</table>\n",
              "</div>"
            ],
            "text/plain": [
              "   minute  keystroke        date hour second millisecond\n",
              "0      47  Key.space  2019-10-28   18     31         596\n",
              "1      47  Key.space  2019-10-28   18     32         392\n",
              "2      47        't'  2019-10-28   18     34         802\n",
              "3      47        'h'  2019-10-28   18     34         980\n",
              "4      47        'i'  2019-10-28   18     35         018"
            ]
          },
          "metadata": {
            "tags": []
          },
          "execution_count": 9
        }
      ]
    },
    {
      "cell_type": "markdown",
      "metadata": {
        "id": "IvW5gDsbTjyR",
        "colab_type": "text"
      },
      "source": [
        "Lets smash these scattered date and time columns to one datetime column"
      ]
    },
    {
      "cell_type": "code",
      "metadata": {
        "id": "q14ZLdhfTqMw",
        "colab_type": "code",
        "outputId": "93cebadd-f7e4-4927-b01f-2da0eaad3375",
        "colab": {
          "base_uri": "https://localhost:8080/",
          "height": 195
        }
      },
      "source": [
        "KEYLOG_DF['datetime'] = KEYLOG_DF[['date',\n",
        "                                   'hour',\n",
        "                                   'minute',\n",
        "                                   'second',\n",
        "                                   'millisecond']].apply(\n",
        "                                       lambda x: '{} {}:{}:{} {}'.format(\n",
        "                                           x.date,\n",
        "                                           x.hour,\n",
        "                                           x.minute,\n",
        "                                           x.second,\n",
        "                                           x.millisecond),\n",
        "                                      axis = 1 \n",
        "                                   )\n",
        "KEYLOG_DF.head()"
      ],
      "execution_count": 10,
      "outputs": [
        {
          "output_type": "execute_result",
          "data": {
            "text/html": [
              "<div>\n",
              "<style scoped>\n",
              "    .dataframe tbody tr th:only-of-type {\n",
              "        vertical-align: middle;\n",
              "    }\n",
              "\n",
              "    .dataframe tbody tr th {\n",
              "        vertical-align: top;\n",
              "    }\n",
              "\n",
              "    .dataframe thead th {\n",
              "        text-align: right;\n",
              "    }\n",
              "</style>\n",
              "<table border=\"1\" class=\"dataframe\">\n",
              "  <thead>\n",
              "    <tr style=\"text-align: right;\">\n",
              "      <th></th>\n",
              "      <th>minute</th>\n",
              "      <th>keystroke</th>\n",
              "      <th>date</th>\n",
              "      <th>hour</th>\n",
              "      <th>second</th>\n",
              "      <th>millisecond</th>\n",
              "      <th>datetime</th>\n",
              "    </tr>\n",
              "  </thead>\n",
              "  <tbody>\n",
              "    <tr>\n",
              "      <th>0</th>\n",
              "      <td>47</td>\n",
              "      <td>Key.space</td>\n",
              "      <td>2019-10-28</td>\n",
              "      <td>18</td>\n",
              "      <td>31</td>\n",
              "      <td>596</td>\n",
              "      <td>2019-10-28 18:47:31 596</td>\n",
              "    </tr>\n",
              "    <tr>\n",
              "      <th>1</th>\n",
              "      <td>47</td>\n",
              "      <td>Key.space</td>\n",
              "      <td>2019-10-28</td>\n",
              "      <td>18</td>\n",
              "      <td>32</td>\n",
              "      <td>392</td>\n",
              "      <td>2019-10-28 18:47:32 392</td>\n",
              "    </tr>\n",
              "    <tr>\n",
              "      <th>2</th>\n",
              "      <td>47</td>\n",
              "      <td>'t'</td>\n",
              "      <td>2019-10-28</td>\n",
              "      <td>18</td>\n",
              "      <td>34</td>\n",
              "      <td>802</td>\n",
              "      <td>2019-10-28 18:47:34 802</td>\n",
              "    </tr>\n",
              "    <tr>\n",
              "      <th>3</th>\n",
              "      <td>47</td>\n",
              "      <td>'h'</td>\n",
              "      <td>2019-10-28</td>\n",
              "      <td>18</td>\n",
              "      <td>34</td>\n",
              "      <td>980</td>\n",
              "      <td>2019-10-28 18:47:34 980</td>\n",
              "    </tr>\n",
              "    <tr>\n",
              "      <th>4</th>\n",
              "      <td>47</td>\n",
              "      <td>'i'</td>\n",
              "      <td>2019-10-28</td>\n",
              "      <td>18</td>\n",
              "      <td>35</td>\n",
              "      <td>018</td>\n",
              "      <td>2019-10-28 18:47:35 018</td>\n",
              "    </tr>\n",
              "  </tbody>\n",
              "</table>\n",
              "</div>"
            ],
            "text/plain": [
              "   minute  keystroke        date  ... second millisecond                 datetime\n",
              "0      47  Key.space  2019-10-28  ...     31         596  2019-10-28 18:47:31 596\n",
              "1      47  Key.space  2019-10-28  ...     32         392  2019-10-28 18:47:32 392\n",
              "2      47        't'  2019-10-28  ...     34         802  2019-10-28 18:47:34 802\n",
              "3      47        'h'  2019-10-28  ...     34         980  2019-10-28 18:47:34 980\n",
              "4      47        'i'  2019-10-28  ...     35         018  2019-10-28 18:47:35 018\n",
              "\n",
              "[5 rows x 7 columns]"
            ]
          },
          "metadata": {
            "tags": []
          },
          "execution_count": 10
        }
      ]
    },
    {
      "cell_type": "markdown",
      "metadata": {
        "id": "CzYebd5AZ5Q_",
        "colab_type": "text"
      },
      "source": [
        "The above cell that I ran took good amount of time, It can mean two things:\n",
        "1. I am not using correct functions to do that, or\n",
        "2. Doing operation across multiple columns is always costly\n"
      ]
    },
    {
      "cell_type": "markdown",
      "metadata": {
        "id": "28Pwo03DqYec",
        "colab_type": "text"
      },
      "source": [
        "There is still some cleaning to be done in the **keystroke** column as it contains single quote around our data."
      ]
    },
    {
      "cell_type": "code",
      "metadata": {
        "id": "5htCu7tJufFq",
        "colab_type": "code",
        "colab": {}
      },
      "source": [
        "# Going forward if I need to perform any experiment on the shape of \n",
        "# dataframe, so just to be safe that I do not modify the actual dataframe and require me to reload it from the file.\n",
        "copy_keylog = KEYLOG_DF"
      ],
      "execution_count": 0,
      "outputs": []
    },
    {
      "cell_type": "code",
      "metadata": {
        "id": "KFiP_tlHqWui",
        "colab_type": "code",
        "colab": {}
      },
      "source": [
        "KEYLOG_DF.keystroke = KEYLOG_DF.apply(lambda x: x['keystroke'].strip(\"'\"), axis=1)"
      ],
      "execution_count": 0,
      "outputs": []
    },
    {
      "cell_type": "markdown",
      "metadata": {
        "id": "FU5vNFNGYlmL",
        "colab_type": "text"
      },
      "source": [
        "Lets settle at this shape of our dataset.\n",
        "I have two main variables that I thought to have earlier \n",
        "1. datetime\n",
        "2. keystroke\n",
        "\n",
        "other are just some extra variables that might come in handy when doing some calculations , So I am gonna leave them there.\n"
      ]
    },
    {
      "cell_type": "code",
      "metadata": {
        "id": "ePjEevj7Y7w0",
        "colab_type": "code",
        "outputId": "6943e9e5-1050-448b-846f-c0a11a24d8cd",
        "colab": {
          "base_uri": "https://localhost:8080/",
          "height": 67
        }
      },
      "source": [
        "KEYLOG_DF.columns"
      ],
      "execution_count": 13,
      "outputs": [
        {
          "output_type": "execute_result",
          "data": {
            "text/plain": [
              "Index(['minute', 'keystroke', 'date', 'hour', 'second', 'millisecond',\n",
              "       'datetime'],\n",
              "      dtype='object')"
            ]
          },
          "metadata": {
            "tags": []
          },
          "execution_count": 13
        }
      ]
    },
    {
      "cell_type": "markdown",
      "metadata": {
        "id": "-588Y5bHZTlW",
        "colab_type": "text"
      },
      "source": [
        "Lets do some cosmetic change, I really don't like the order in which the variables are, \n",
        "lets make them in this order:\n",
        "date, minute, second, millisecond, keystroke \n",
        "I think for **brevity** this is the right order."
      ]
    },
    {
      "cell_type": "code",
      "metadata": {
        "id": "JLlDwhoaZSad",
        "colab_type": "code",
        "outputId": "882b3a2d-1231-4315-f9ec-8819a2349056",
        "colab": {
          "base_uri": "https://localhost:8080/",
          "height": 195
        }
      },
      "source": [
        "KEYLOG_DF = KEYLOG_DF[['date', 'minute', 'second', 'millisecond', 'keystroke']]\n",
        "copy_keylog = KEYLOG_DF\n",
        "KEYLOG_DF.head()"
      ],
      "execution_count": 16,
      "outputs": [
        {
          "output_type": "execute_result",
          "data": {
            "text/html": [
              "<div>\n",
              "<style scoped>\n",
              "    .dataframe tbody tr th:only-of-type {\n",
              "        vertical-align: middle;\n",
              "    }\n",
              "\n",
              "    .dataframe tbody tr th {\n",
              "        vertical-align: top;\n",
              "    }\n",
              "\n",
              "    .dataframe thead th {\n",
              "        text-align: right;\n",
              "    }\n",
              "</style>\n",
              "<table border=\"1\" class=\"dataframe\">\n",
              "  <thead>\n",
              "    <tr style=\"text-align: right;\">\n",
              "      <th></th>\n",
              "      <th>date</th>\n",
              "      <th>minute</th>\n",
              "      <th>second</th>\n",
              "      <th>millisecond</th>\n",
              "      <th>keystroke</th>\n",
              "    </tr>\n",
              "  </thead>\n",
              "  <tbody>\n",
              "    <tr>\n",
              "      <th>0</th>\n",
              "      <td>2019-10-28</td>\n",
              "      <td>47</td>\n",
              "      <td>31</td>\n",
              "      <td>596</td>\n",
              "      <td>Key.space</td>\n",
              "    </tr>\n",
              "    <tr>\n",
              "      <th>1</th>\n",
              "      <td>2019-10-28</td>\n",
              "      <td>47</td>\n",
              "      <td>32</td>\n",
              "      <td>392</td>\n",
              "      <td>Key.space</td>\n",
              "    </tr>\n",
              "    <tr>\n",
              "      <th>2</th>\n",
              "      <td>2019-10-28</td>\n",
              "      <td>47</td>\n",
              "      <td>34</td>\n",
              "      <td>802</td>\n",
              "      <td>t</td>\n",
              "    </tr>\n",
              "    <tr>\n",
              "      <th>3</th>\n",
              "      <td>2019-10-28</td>\n",
              "      <td>47</td>\n",
              "      <td>34</td>\n",
              "      <td>980</td>\n",
              "      <td>h</td>\n",
              "    </tr>\n",
              "    <tr>\n",
              "      <th>4</th>\n",
              "      <td>2019-10-28</td>\n",
              "      <td>47</td>\n",
              "      <td>35</td>\n",
              "      <td>018</td>\n",
              "      <td>i</td>\n",
              "    </tr>\n",
              "  </tbody>\n",
              "</table>\n",
              "</div>"
            ],
            "text/plain": [
              "         date  minute second millisecond  keystroke\n",
              "0  2019-10-28      47     31         596  Key.space\n",
              "1  2019-10-28      47     32         392  Key.space\n",
              "2  2019-10-28      47     34         802          t\n",
              "3  2019-10-28      47     34         980          h\n",
              "4  2019-10-28      47     35         018          i"
            ]
          },
          "metadata": {
            "tags": []
          },
          "execution_count": 16
        }
      ]
    },
    {
      "cell_type": "markdown",
      "metadata": {
        "id": "DuvsiwBiacMN",
        "colab_type": "text"
      },
      "source": [
        "This took a while and a whole lot of thinking, But now I think my dataset is ready."
      ]
    },
    {
      "cell_type": "markdown",
      "metadata": {
        "id": "ncVZa0LPalh3",
        "colab_type": "text"
      },
      "source": [
        "Lets see the questions that I want to get answered from this dataset.\n",
        "\n",
        "I have categorized the questions into three levels considered how difficult or \n",
        "easy the're gonna be to answer."
      ]
    },
    {
      "cell_type": "markdown",
      "metadata": {
        "id": "5mwEkfXGa5g9",
        "colab_type": "text"
      },
      "source": [
        "## BASIC ( EASY ) \n",
        "  1. What is the Most used Key ?\n",
        "  2. What is the Least used Key ?\n",
        "  3. What are the most used key combos ( experimental question ) ?\n",
        "---\n",
        "\n",
        "## INTERMEDIATE ( MEDIUM ) \n",
        "\t\n",
        "  1. Create keyboard HEATMAP\n",
        "  2. Frequency distribution of keystrokes ( visualise this ) \n",
        "  3. look for pwd ( Experimental )\n",
        "\n",
        "---\n",
        "\n",
        "## ADVANCE ( HARD ) \n",
        "\n",
        "1. Get an idea about active sessions ( time at which i was active ) \n",
        "\t- Generate visuals for my active sessions in a day - ( Define what do you call a visual )\n",
        "\t- What is the average time of the session ? \n",
        "\t\t- WORKDAYS on MON - THU and on FRI (~ bcoz of change in work timings)\n",
        "\t\t- WEEKDAYS Sat and Sun\n",
        "\t- Keeping sessions in mind\n",
        "      - Keeping sessions in mind , What is (by far) the first key that I press ?\n",
        "      - find average typing speed \n",
        "\t\tADVANCE use case \n",
        "\t\t- Find average typing speed ( minus the records which include backspace ) i.e, What is average speed for perfect typing ?\n"
      ]
    },
    {
      "cell_type": "markdown",
      "metadata": {
        "id": "0PI_RA-icM7k",
        "colab_type": "text"
      },
      "source": [
        "### Lets start with BASIC\n",
        "First question \n",
        "##1. What is the most key used ?"
      ]
    },
    {
      "cell_type": "markdown",
      "metadata": {
        "id": "SLMR-0C5vLsi",
        "colab_type": "text"
      },
      "source": [
        "#### To answer this question I have to make it case insensitive i.e, a and A are two different values but they are from the same key, So I have to make a and A the same and similarly for every alphabet.\n",
        "\n",
        "> Here I am only considering for alphabet not for keys which can be used with shift to write a different character\n",
        "\n"
      ]
    },
    {
      "cell_type": "code",
      "metadata": {
        "id": "MEaMgkEXxA0b",
        "colab_type": "code",
        "colab": {}
      },
      "source": [
        "KEYLOG_DF_case_insensitive = KEYLOG_DF\n",
        "KEYLOG_DF_case_insensitive.keystroke = KEYLOG_DF.apply(lambda x: x.keystroke.upper() if x.keystroke.isalpha() else x.keystroke, axis=1)"
      ],
      "execution_count": 0,
      "outputs": []
    },
    {
      "cell_type": "code",
      "metadata": {
        "id": "7xaZTQ-gzE2h",
        "colab_type": "code",
        "colab": {
          "base_uri": "https://localhost:8080/",
          "height": 195
        },
        "outputId": "f51c9d7e-16c5-4bf8-ae74-109e27e6872c"
      },
      "source": [
        "KEYLOG_DF_case_insensitive.head()"
      ],
      "execution_count": 21,
      "outputs": [
        {
          "output_type": "execute_result",
          "data": {
            "text/html": [
              "<div>\n",
              "<style scoped>\n",
              "    .dataframe tbody tr th:only-of-type {\n",
              "        vertical-align: middle;\n",
              "    }\n",
              "\n",
              "    .dataframe tbody tr th {\n",
              "        vertical-align: top;\n",
              "    }\n",
              "\n",
              "    .dataframe thead th {\n",
              "        text-align: right;\n",
              "    }\n",
              "</style>\n",
              "<table border=\"1\" class=\"dataframe\">\n",
              "  <thead>\n",
              "    <tr style=\"text-align: right;\">\n",
              "      <th></th>\n",
              "      <th>date</th>\n",
              "      <th>minute</th>\n",
              "      <th>second</th>\n",
              "      <th>millisecond</th>\n",
              "      <th>keystroke</th>\n",
              "    </tr>\n",
              "  </thead>\n",
              "  <tbody>\n",
              "    <tr>\n",
              "      <th>0</th>\n",
              "      <td>2019-10-28</td>\n",
              "      <td>47</td>\n",
              "      <td>31</td>\n",
              "      <td>596</td>\n",
              "      <td>Key.space</td>\n",
              "    </tr>\n",
              "    <tr>\n",
              "      <th>1</th>\n",
              "      <td>2019-10-28</td>\n",
              "      <td>47</td>\n",
              "      <td>32</td>\n",
              "      <td>392</td>\n",
              "      <td>Key.space</td>\n",
              "    </tr>\n",
              "    <tr>\n",
              "      <th>2</th>\n",
              "      <td>2019-10-28</td>\n",
              "      <td>47</td>\n",
              "      <td>34</td>\n",
              "      <td>802</td>\n",
              "      <td>T</td>\n",
              "    </tr>\n",
              "    <tr>\n",
              "      <th>3</th>\n",
              "      <td>2019-10-28</td>\n",
              "      <td>47</td>\n",
              "      <td>34</td>\n",
              "      <td>980</td>\n",
              "      <td>H</td>\n",
              "    </tr>\n",
              "    <tr>\n",
              "      <th>4</th>\n",
              "      <td>2019-10-28</td>\n",
              "      <td>47</td>\n",
              "      <td>35</td>\n",
              "      <td>018</td>\n",
              "      <td>I</td>\n",
              "    </tr>\n",
              "  </tbody>\n",
              "</table>\n",
              "</div>"
            ],
            "text/plain": [
              "         date  minute second millisecond  keystroke\n",
              "0  2019-10-28      47     31         596  Key.space\n",
              "1  2019-10-28      47     32         392  Key.space\n",
              "2  2019-10-28      47     34         802          T\n",
              "3  2019-10-28      47     34         980          H\n",
              "4  2019-10-28      47     35         018          I"
            ]
          },
          "metadata": {
            "tags": []
          },
          "execution_count": 21
        }
      ]
    },
    {
      "cell_type": "code",
      "metadata": {
        "id": "tvQxMAPXcTvP",
        "colab_type": "code",
        "outputId": "ec6dc6c8-11af-47c6-b068-80b7ce26f2ce",
        "colab": {
          "base_uri": "https://localhost:8080/",
          "height": 101
        }
      },
      "source": [
        "KEYLOG_DF_case_insensitive.keystroke.describe()"
      ],
      "execution_count": 22,
      "outputs": [
        {
          "output_type": "execute_result",
          "data": {
            "text/plain": [
              "count         682038\n",
              "unique            89\n",
              "top       Key.ctrl_l\n",
              "freq           86478\n",
              "Name: keystroke, dtype: object"
            ]
          },
          "metadata": {
            "tags": []
          },
          "execution_count": 22
        }
      ]
    },
    {
      "cell_type": "code",
      "metadata": {
        "id": "GuKi_cNFeEcw",
        "colab_type": "code",
        "outputId": "b6580baf-d75f-4eb9-afd9-6a3f96ff5878",
        "colab": {
          "base_uri": "https://localhost:8080/",
          "height": 218
        }
      },
      "source": [
        "key_press_count_series = KEYLOG_DF_case_insensitive.keystroke.value_counts().apply(\n",
        "    lambda x: np.NaN if x == 1 else int(x)\n",
        "    )\n",
        "key_press_count_series"
      ],
      "execution_count": 25,
      "outputs": [
        {
          "output_type": "execute_result",
          "data": {
            "text/plain": [
              "Key.ctrl_l         86478.0\n",
              "Key.shift          61492.0\n",
              "Key.space          40091.0\n",
              "Key.backspace      34434.0\n",
              "E                  28075.0\n",
              "                    ...   \n",
              "Key.menu               9.0\n",
              "Key.f11                7.0\n",
              "Key.f3                 4.0\n",
              "Key.scroll_lock        3.0\n",
              "<177>                  NaN\n",
              "Name: keystroke, Length: 89, dtype: float64"
            ]
          },
          "metadata": {
            "tags": []
          },
          "execution_count": 25
        }
      ]
    },
    {
      "cell_type": "code",
      "metadata": {
        "id": "D1YdQKkbglHB",
        "colab_type": "code",
        "colab": {}
      },
      "source": [
        "most_used_key = key_press_count_series.idxmax()\n",
        "times_pressed = key_press_count_series.max()"
      ],
      "execution_count": 0,
      "outputs": []
    },
    {
      "cell_type": "code",
      "metadata": {
        "id": "DLzwy8hygzuW",
        "colab_type": "code",
        "outputId": "6c7af5f6-07fa-4576-d27b-1eafd3aeddb5",
        "colab": {
          "base_uri": "https://localhost:8080/",
          "height": 34
        }
      },
      "source": [
        "print('I have used {} key the most and to be precise \\\n",
        "I have smashed it {} times'.format(\n",
        "    most_used_key,\n",
        "    times_pressed\n",
        "))"
      ],
      "execution_count": 27,
      "outputs": [
        {
          "output_type": "stream",
          "text": [
            "I have used Key.ctrl_l key the most and to be precise I have smashed it 86478.0 times\n"
          ],
          "name": "stdout"
        }
      ]
    },
    {
      "cell_type": "markdown",
      "metadata": {
        "id": "EUtwiyPbhLAW",
        "colab_type": "text"
      },
      "source": [
        "Boo Yeah ! , I have answered my first question. \n",
        "---\n",
        "Lets answer second one \n",
        "\n",
        "##2. What is the least key used ?"
      ]
    },
    {
      "cell_type": "code",
      "metadata": {
        "id": "oNkT_zhRhPeQ",
        "colab_type": "code",
        "colab": {}
      },
      "source": [
        "least_used_key = key_press_count_series.idxmin()\n",
        "times_pressed = key_press_count_series.min()"
      ],
      "execution_count": 0,
      "outputs": []
    },
    {
      "cell_type": "code",
      "metadata": {
        "id": "w6YLjvYlhlCB",
        "colab_type": "code",
        "outputId": "33e77628-13d3-4139-817c-330fe41ddced",
        "colab": {
          "base_uri": "https://localhost:8080/",
          "height": 34
        }
      },
      "source": [
        "print('I have used {} key the least and to be precise \\\n",
        "I have touched it just {} times'.format(\n",
        "    least_used_key,\n",
        "    times_pressed\n",
        "))"
      ],
      "execution_count": 29,
      "outputs": [
        {
          "output_type": "stream",
          "text": [
            "I have used Key.scroll_lock key the least and to be precise I have touched it just 3.0 times\n"
          ],
          "name": "stdout"
        }
      ]
    },
    {
      "cell_type": "markdown",
      "metadata": {
        "id": "cVGwgmw0pcLO",
        "colab_type": "text"
      },
      "source": [
        "This doesn't seems right, The data said that I have used p,m, and some other alphabets just 1 times.\n",
        "\n",
        "After spending 30 min into this thought, I got to know that i haven't really\n",
        "cleaned my data, the keystroke column contains the keystroke with a single quote\n",
        "around it if the keystroke is alphabet.\n",
        "\n",
        "I'll perform this cleaning now in above cells and Rerun the see the correct answer. \n",
        "\n",
        "I just wrote it here so that I know how important is cleaning and understanding\n",
        "your data before asking questions from it, or else you would get wrong answers\n",
        "simply because your data is not cleaning"
      ]
    },
    {
      "cell_type": "markdown",
      "metadata": {
        "id": "bf-eAMCNrIpO",
        "colab_type": "text"
      },
      "source": [
        "Okay, So I updated my logic as I got one keycode **<177>** as the key which I have pressed just 1 time within last 3 months and I don't but that may be it is some special key combination or something , I have spend quite a time in finding what this keycode or code represent and I am lost I couldn't find what it is for. \n",
        "So, I decided to remove any key which I have touched only once because that really can't be the case that I have touched a key just once. Or it could be but this is what I am going to assume for now \n",
        "\n"
      ]
    },
    {
      "cell_type": "markdown",
      "metadata": {
        "id": "H3wyifzPz3Ln",
        "colab_type": "text"
      },
      "source": [
        "## 3. What are the most used Key combos ? \n",
        "This was an experimental question. And the dataset of keystroke does not log the key combos. So I can not answer this question from my dataset. "
      ]
    },
    {
      "cell_type": "markdown",
      "metadata": {
        "id": "onbKJQxV0gBR",
        "colab_type": "text"
      },
      "source": [
        "## INTERMEDIATE\n",
        "\n",
        "###1. Create Keyboard Heatmap"
      ]
    },
    {
      "cell_type": "code",
      "metadata": {
        "id": "YQtdzUWM0bg8",
        "colab_type": "code",
        "colab": {}
      },
      "source": [
        ""
      ],
      "execution_count": 0,
      "outputs": []
    }
  ]
}