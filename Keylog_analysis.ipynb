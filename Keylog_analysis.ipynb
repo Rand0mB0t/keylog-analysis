{
  "nbformat": 4,
  "nbformat_minor": 0,
  "metadata": {
    "colab": {
      "name": "Keylog_analysis.ipynb",
      "provenance": [],
      "collapsed_sections": [],
      "toc_visible": true,
      "mount_file_id": "1YN60_VZCTQYNjV-S-lLM18x09oWYBT6p",
      "authorship_tag": "ABX9TyOpIGrLTfhL1jvHvZs5md8I",
      "include_colab_link": true
    },
    "kernelspec": {
      "name": "python3",
      "display_name": "Python 3"
    }
  },
  "cells": [
    {
      "cell_type": "markdown",
      "metadata": {
        "id": "view-in-github",
        "colab_type": "text"
      },
      "source": [
        "<a href=\"https://colab.research.google.com/github/Rand0mB0t/keylog-analysis/blob/master/Keylog_analysis.ipynb\" target=\"_parent\"><img src=\"https://colab.research.google.com/assets/colab-badge.svg\" alt=\"Open In Colab\"/></a>"
      ]
    },
    {
      "cell_type": "markdown",
      "metadata": {
        "id": "zTcDVICF_OuF",
        "colab_type": "text"
      },
      "source": [
        "#Key Log Data Exploration"
      ]
    },
    {
      "cell_type": "markdown",
      "metadata": {
        "id": "xqZq05Am_jjt",
        "colab_type": "text"
      },
      "source": [
        "I Have been collecting my keylog data from my office laptop since last three months , I started from last year late october so now I have accumulated keylog data for almost 4 months .  This is my first data exploration personal project. I am not sure about this but I think 4 months of data would be a good enough amount of data to call it a dataset, and to start exploratory analysis on this.\n"
      ]
    },
    {
      "cell_type": "markdown",
      "metadata": {
        "id": "P68TsrS3K7f-",
        "colab_type": "text"
      },
      "source": [
        "Lets get started with it."
      ]
    },
    {
      "cell_type": "markdown",
      "metadata": {
        "id": "2zV_Wto0LX4x",
        "colab_type": "text"
      },
      "source": [
        "Let's do some imports first"
      ]
    },
    {
      "cell_type": "code",
      "metadata": {
        "id": "miQ1zLm89mNK",
        "colab_type": "code",
        "colab": {}
      },
      "source": [
        "import pandas as pd\n",
        "import numpy as np"
      ],
      "execution_count": 0,
      "outputs": []
    },
    {
      "cell_type": "markdown",
      "metadata": {
        "id": "22EDVc6ALiyD",
        "colab_type": "text"
      },
      "source": [
        "*The dataset is in my personal google drive , I do not want to expose my keystrokes to the world :p* and I am using google colab notebook to perform the data exploration and It has a very cool feature to link your google drive to it, so I have uploaded my dataset to my google drive and now accessing it from collab. So I can continue my exploration whenever and wherever I want, as long as I have access to a computer and internet connection."
      ]
    },
    {
      "cell_type": "markdown",
      "metadata": {
        "id": "7n32WqzhODJI",
        "colab_type": "text"
      },
      "source": [
        "**First thing first** Lets have a look at the dataset, How it looks in its file. "
      ]
    },
    {
      "cell_type": "code",
      "metadata": {
        "id": "RF-mjH-IMhM1",
        "colab_type": "code",
        "outputId": "f01ebe41-97d6-4935-f10e-9b3e6b8f9f73",
        "colab": {
          "base_uri": "https://localhost:8080/",
          "height": 185
        }
      },
      "source": [
        "!head '/content/drive/My Drive/keylog_analysis/keyLog_20200223T130834.log'"
      ],
      "execution_count": 3,
      "outputs": [
        {
          "output_type": "stream",
          "text": [
            "2019-10-28 18:47:31,596:Key.space\r\n",
            "2019-10-28 18:47:32,392:Key.space\r\n",
            "2019-10-28 18:47:34,802:'t'\r\n",
            "2019-10-28 18:47:34,980:'h'\r\n",
            "2019-10-28 18:47:35,018:'i'\r\n",
            "2019-10-28 18:47:35,253:'s'\r\n",
            "2019-10-28 18:47:43,463:Key.alt_l\r\n",
            "2019-10-28 18:47:43,619:Key.up\r\n",
            "2019-10-28 18:47:44,136:Key.alt_l\r\n",
            "2019-10-28 18:47:44,791:Key.left\r\n"
          ],
          "name": "stdout"
        }
      ]
    },
    {
      "cell_type": "markdown",
      "metadata": {
        "id": "wkPE_8aCOOsD",
        "colab_type": "text"
      },
      "source": [
        "Okay, So It looks like we can classify this dataset as a CSV and we have to understand what is the delimiter in this dataset. These are the things in dataset  that I see :\n",
        "\n",
        "\n",
        "*   Date\n",
        "*   Time\n",
        "*   A comma separated number , I do not know what it is\n",
        "*   and at last our keystroke information\n",
        "\n",
        "After seeing this data one thing is for sure, It is a **time-series** data.\n",
        "\n",
        "So, I know the code I wrote for logging this data , is just logging **time:keystroke** . With this knowledge about the data, I can be sure that there are really two parts to this data, and now I know what that comma separtaed value could be, It is milliseconds.\n",
        "\n",
        "Lets write again what we see in our dataset:\n",
        "*  DateTime\n",
        "*  Keystroke\n",
        "\n",
        "and these two things are separated by a colon **:** .\n",
        "\n",
        "But there is one issue now, the timestamp contains **:** for separating the \n",
        "Time. I have to figure out how to read this dataset with two columns providing the correct delimiter because if I provide colon as a delimiter then I would get these columns \n",
        "1. Date with Hour\n",
        "2. minutes\n",
        "3. seconds with milliseconds\n",
        "4. keystroke\n",
        "\n",
        "Well, I can handle this, I'll load it with colon as delimiter and then merge\n",
        "first 3 columns as timestamp and leave keystroke as it is. This way I would be left with just two columns that I require\n",
        "1. Timestamp \n",
        "2. Keystroke\n",
        "\n",
        "Enough talking , Let's get on to loading the data .  Yaaay!!\n",
        "\n",
        "\n"
      ]
    },
    {
      "cell_type": "code",
      "metadata": {
        "id": "298SguFqLW6q",
        "colab_type": "code",
        "colab": {}
      },
      "source": [
        "DATASET_LOCATION = '/content/drive/My Drive/keylog_analysis/keyLog_20200223T130834.log'"
      ],
      "execution_count": 0,
      "outputs": []
    },
    {
      "cell_type": "markdown",
      "metadata": {
        "id": "R4wkD5zYMQC-",
        "colab_type": "text"
      },
      "source": [
        "Now I have the location of my dataset in a variable so that I do not have to remember the location or type in everytime I run the notebook \n",
        "and also , If I happen to change the location of the dataset or try to reuse this notebook for some other dataset, I just have to update the location here.\n",
        "\n",
        "\n"
      ]
    },
    {
      "cell_type": "code",
      "metadata": {
        "id": "cffai9ACMyfN",
        "colab_type": "code",
        "colab": {}
      },
      "source": [
        "KEYLOG_DF = pd.read_csv(DATASET_LOCATION, delimiter=':')"
      ],
      "execution_count": 0,
      "outputs": []
    },
    {
      "cell_type": "markdown",
      "metadata": {
        "id": "jciNMm_HR1GA",
        "colab_type": "text"
      },
      "source": [
        "Lets Have a look at what we loaded"
      ]
    },
    {
      "cell_type": "code",
      "metadata": {
        "id": "LaRUml3iRyL6",
        "colab_type": "code",
        "outputId": "64e1b99e-aabe-493b-98c8-cb20adf41008",
        "colab": {
          "base_uri": "https://localhost:8080/",
          "height": 195
        }
      },
      "source": [
        "KEYLOG_DF.head()"
      ],
      "execution_count": 6,
      "outputs": [
        {
          "output_type": "execute_result",
          "data": {
            "text/html": [
              "<div>\n",
              "<style scoped>\n",
              "    .dataframe tbody tr th:only-of-type {\n",
              "        vertical-align: middle;\n",
              "    }\n",
              "\n",
              "    .dataframe tbody tr th {\n",
              "        vertical-align: top;\n",
              "    }\n",
              "\n",
              "    .dataframe thead th {\n",
              "        text-align: right;\n",
              "    }\n",
              "</style>\n",
              "<table border=\"1\" class=\"dataframe\">\n",
              "  <thead>\n",
              "    <tr style=\"text-align: right;\">\n",
              "      <th></th>\n",
              "      <th>2019-10-28 18</th>\n",
              "      <th>47</th>\n",
              "      <th>31,596</th>\n",
              "      <th>Key.space</th>\n",
              "    </tr>\n",
              "  </thead>\n",
              "  <tbody>\n",
              "    <tr>\n",
              "      <th>0</th>\n",
              "      <td>2019-10-28 18</td>\n",
              "      <td>47</td>\n",
              "      <td>32,392</td>\n",
              "      <td>Key.space</td>\n",
              "    </tr>\n",
              "    <tr>\n",
              "      <th>1</th>\n",
              "      <td>2019-10-28 18</td>\n",
              "      <td>47</td>\n",
              "      <td>34,802</td>\n",
              "      <td>'t'</td>\n",
              "    </tr>\n",
              "    <tr>\n",
              "      <th>2</th>\n",
              "      <td>2019-10-28 18</td>\n",
              "      <td>47</td>\n",
              "      <td>34,980</td>\n",
              "      <td>'h'</td>\n",
              "    </tr>\n",
              "    <tr>\n",
              "      <th>3</th>\n",
              "      <td>2019-10-28 18</td>\n",
              "      <td>47</td>\n",
              "      <td>35,018</td>\n",
              "      <td>'i'</td>\n",
              "    </tr>\n",
              "    <tr>\n",
              "      <th>4</th>\n",
              "      <td>2019-10-28 18</td>\n",
              "      <td>47</td>\n",
              "      <td>35,253</td>\n",
              "      <td>'s'</td>\n",
              "    </tr>\n",
              "  </tbody>\n",
              "</table>\n",
              "</div>"
            ],
            "text/plain": [
              "   2019-10-28 18  47  31,596  Key.space\n",
              "0  2019-10-28 18  47  32,392  Key.space\n",
              "1  2019-10-28 18  47  34,802        't'\n",
              "2  2019-10-28 18  47  34,980        'h'\n",
              "3  2019-10-28 18  47  35,018        'i'\n",
              "4  2019-10-28 18  47  35,253        's'"
            ]
          },
          "metadata": {
            "tags": []
          },
          "execution_count": 6
        }
      ]
    },
    {
      "cell_type": "markdown",
      "metadata": {
        "id": "XJH_z0vpR9IW",
        "colab_type": "text"
      },
      "source": [
        "There are no headers in my dataset, Lets reload it with the headers that I decided upon ( Date with Hour, minute, seconds with millisecond and keystroke )"
      ]
    },
    {
      "cell_type": "code",
      "metadata": {
        "id": "BZ9TN4RUSN5O",
        "colab_type": "code",
        "colab": {}
      },
      "source": [
        "header = ['Date_with_hour','minute','second_with_millisecond','keystroke']\n",
        "KEYLOG_DF = pd.read_csv(DATASET_LOCATION, delimiter=':', names=header)"
      ],
      "execution_count": 0,
      "outputs": []
    },
    {
      "cell_type": "code",
      "metadata": {
        "id": "ZtL4UdSLSjdX",
        "colab_type": "code",
        "outputId": "79a2bb4a-cfe4-4145-c7ee-bb6a4b078e64",
        "colab": {
          "base_uri": "https://localhost:8080/",
          "height": 195
        }
      },
      "source": [
        "KEYLOG_DF.head()"
      ],
      "execution_count": 8,
      "outputs": [
        {
          "output_type": "execute_result",
          "data": {
            "text/html": [
              "<div>\n",
              "<style scoped>\n",
              "    .dataframe tbody tr th:only-of-type {\n",
              "        vertical-align: middle;\n",
              "    }\n",
              "\n",
              "    .dataframe tbody tr th {\n",
              "        vertical-align: top;\n",
              "    }\n",
              "\n",
              "    .dataframe thead th {\n",
              "        text-align: right;\n",
              "    }\n",
              "</style>\n",
              "<table border=\"1\" class=\"dataframe\">\n",
              "  <thead>\n",
              "    <tr style=\"text-align: right;\">\n",
              "      <th></th>\n",
              "      <th>Date_with_hour</th>\n",
              "      <th>minute</th>\n",
              "      <th>second_with_millisecond</th>\n",
              "      <th>keystroke</th>\n",
              "    </tr>\n",
              "  </thead>\n",
              "  <tbody>\n",
              "    <tr>\n",
              "      <th>0</th>\n",
              "      <td>2019-10-28 18</td>\n",
              "      <td>47</td>\n",
              "      <td>31,596</td>\n",
              "      <td>Key.space</td>\n",
              "    </tr>\n",
              "    <tr>\n",
              "      <th>1</th>\n",
              "      <td>2019-10-28 18</td>\n",
              "      <td>47</td>\n",
              "      <td>32,392</td>\n",
              "      <td>Key.space</td>\n",
              "    </tr>\n",
              "    <tr>\n",
              "      <th>2</th>\n",
              "      <td>2019-10-28 18</td>\n",
              "      <td>47</td>\n",
              "      <td>34,802</td>\n",
              "      <td>'t'</td>\n",
              "    </tr>\n",
              "    <tr>\n",
              "      <th>3</th>\n",
              "      <td>2019-10-28 18</td>\n",
              "      <td>47</td>\n",
              "      <td>34,980</td>\n",
              "      <td>'h'</td>\n",
              "    </tr>\n",
              "    <tr>\n",
              "      <th>4</th>\n",
              "      <td>2019-10-28 18</td>\n",
              "      <td>47</td>\n",
              "      <td>35,018</td>\n",
              "      <td>'i'</td>\n",
              "    </tr>\n",
              "  </tbody>\n",
              "</table>\n",
              "</div>"
            ],
            "text/plain": [
              "  Date_with_hour  minute second_with_millisecond  keystroke\n",
              "0  2019-10-28 18      47                  31,596  Key.space\n",
              "1  2019-10-28 18      47                  32,392  Key.space\n",
              "2  2019-10-28 18      47                  34,802        't'\n",
              "3  2019-10-28 18      47                  34,980        'h'\n",
              "4  2019-10-28 18      47                  35,018        'i'"
            ]
          },
          "metadata": {
            "tags": []
          },
          "execution_count": 8
        }
      ]
    },
    {
      "cell_type": "markdown",
      "metadata": {
        "id": "CmZ7E8y6ULRL",
        "colab_type": "text"
      },
      "source": [
        "First, Lets separate hour from Date"
      ]
    },
    {
      "cell_type": "code",
      "metadata": {
        "id": "YqZuBXxTUOXp",
        "colab_type": "code",
        "outputId": "9e12815e-2fc2-4588-e218-d0d18c1b335c",
        "colab": {
          "base_uri": "https://localhost:8080/",
          "height": 195
        }
      },
      "source": [
        "KEYLOG_DF['date'] = KEYLOG_DF['Date_with_hour'].apply(lambda x: x.split()[0])\n",
        "KEYLOG_DF['hour'] = KEYLOG_DF['Date_with_hour'].apply(lambda x: x.split()[1])\n",
        "KEYLOG_DF['second'] = KEYLOG_DF['second_with_millisecond'].apply(lambda x: x.split(',')[0])\n",
        "KEYLOG_DF['millisecond'] = KEYLOG_DF['second_with_millisecond'].apply(lambda x: x.split(',')[1])\n",
        "KEYLOG_DF.head()"
      ],
      "execution_count": 9,
      "outputs": [
        {
          "output_type": "execute_result",
          "data": {
            "text/html": [
              "<div>\n",
              "<style scoped>\n",
              "    .dataframe tbody tr th:only-of-type {\n",
              "        vertical-align: middle;\n",
              "    }\n",
              "\n",
              "    .dataframe tbody tr th {\n",
              "        vertical-align: top;\n",
              "    }\n",
              "\n",
              "    .dataframe thead th {\n",
              "        text-align: right;\n",
              "    }\n",
              "</style>\n",
              "<table border=\"1\" class=\"dataframe\">\n",
              "  <thead>\n",
              "    <tr style=\"text-align: right;\">\n",
              "      <th></th>\n",
              "      <th>Date_with_hour</th>\n",
              "      <th>minute</th>\n",
              "      <th>second_with_millisecond</th>\n",
              "      <th>keystroke</th>\n",
              "      <th>date</th>\n",
              "      <th>hour</th>\n",
              "      <th>second</th>\n",
              "      <th>millisecond</th>\n",
              "    </tr>\n",
              "  </thead>\n",
              "  <tbody>\n",
              "    <tr>\n",
              "      <th>0</th>\n",
              "      <td>2019-10-28 18</td>\n",
              "      <td>47</td>\n",
              "      <td>31,596</td>\n",
              "      <td>Key.space</td>\n",
              "      <td>2019-10-28</td>\n",
              "      <td>18</td>\n",
              "      <td>31</td>\n",
              "      <td>596</td>\n",
              "    </tr>\n",
              "    <tr>\n",
              "      <th>1</th>\n",
              "      <td>2019-10-28 18</td>\n",
              "      <td>47</td>\n",
              "      <td>32,392</td>\n",
              "      <td>Key.space</td>\n",
              "      <td>2019-10-28</td>\n",
              "      <td>18</td>\n",
              "      <td>32</td>\n",
              "      <td>392</td>\n",
              "    </tr>\n",
              "    <tr>\n",
              "      <th>2</th>\n",
              "      <td>2019-10-28 18</td>\n",
              "      <td>47</td>\n",
              "      <td>34,802</td>\n",
              "      <td>'t'</td>\n",
              "      <td>2019-10-28</td>\n",
              "      <td>18</td>\n",
              "      <td>34</td>\n",
              "      <td>802</td>\n",
              "    </tr>\n",
              "    <tr>\n",
              "      <th>3</th>\n",
              "      <td>2019-10-28 18</td>\n",
              "      <td>47</td>\n",
              "      <td>34,980</td>\n",
              "      <td>'h'</td>\n",
              "      <td>2019-10-28</td>\n",
              "      <td>18</td>\n",
              "      <td>34</td>\n",
              "      <td>980</td>\n",
              "    </tr>\n",
              "    <tr>\n",
              "      <th>4</th>\n",
              "      <td>2019-10-28 18</td>\n",
              "      <td>47</td>\n",
              "      <td>35,018</td>\n",
              "      <td>'i'</td>\n",
              "      <td>2019-10-28</td>\n",
              "      <td>18</td>\n",
              "      <td>35</td>\n",
              "      <td>018</td>\n",
              "    </tr>\n",
              "  </tbody>\n",
              "</table>\n",
              "</div>"
            ],
            "text/plain": [
              "  Date_with_hour  minute second_with_millisecond  ... hour second millisecond\n",
              "0  2019-10-28 18      47                  31,596  ...   18     31         596\n",
              "1  2019-10-28 18      47                  32,392  ...   18     32         392\n",
              "2  2019-10-28 18      47                  34,802  ...   18     34         802\n",
              "3  2019-10-28 18      47                  34,980  ...   18     34         980\n",
              "4  2019-10-28 18      47                  35,018  ...   18     35         018\n",
              "\n",
              "[5 rows x 8 columns]"
            ]
          },
          "metadata": {
            "tags": []
          },
          "execution_count": 9
        }
      ]
    },
    {
      "cell_type": "code",
      "metadata": {
        "id": "X5NObYAWVdAL",
        "colab_type": "code",
        "outputId": "e4fb1818-a488-4a3c-820d-3be599bb7b49",
        "colab": {
          "base_uri": "https://localhost:8080/",
          "height": 195
        }
      },
      "source": [
        "# Lets drop the unused column\n",
        "KEYLOG_DF.drop(['Date_with_hour', 'second_with_millisecond'], axis=1, inplace=True)\n",
        "KEYLOG_DF.head()"
      ],
      "execution_count": 10,
      "outputs": [
        {
          "output_type": "execute_result",
          "data": {
            "text/html": [
              "<div>\n",
              "<style scoped>\n",
              "    .dataframe tbody tr th:only-of-type {\n",
              "        vertical-align: middle;\n",
              "    }\n",
              "\n",
              "    .dataframe tbody tr th {\n",
              "        vertical-align: top;\n",
              "    }\n",
              "\n",
              "    .dataframe thead th {\n",
              "        text-align: right;\n",
              "    }\n",
              "</style>\n",
              "<table border=\"1\" class=\"dataframe\">\n",
              "  <thead>\n",
              "    <tr style=\"text-align: right;\">\n",
              "      <th></th>\n",
              "      <th>minute</th>\n",
              "      <th>keystroke</th>\n",
              "      <th>date</th>\n",
              "      <th>hour</th>\n",
              "      <th>second</th>\n",
              "      <th>millisecond</th>\n",
              "    </tr>\n",
              "  </thead>\n",
              "  <tbody>\n",
              "    <tr>\n",
              "      <th>0</th>\n",
              "      <td>47</td>\n",
              "      <td>Key.space</td>\n",
              "      <td>2019-10-28</td>\n",
              "      <td>18</td>\n",
              "      <td>31</td>\n",
              "      <td>596</td>\n",
              "    </tr>\n",
              "    <tr>\n",
              "      <th>1</th>\n",
              "      <td>47</td>\n",
              "      <td>Key.space</td>\n",
              "      <td>2019-10-28</td>\n",
              "      <td>18</td>\n",
              "      <td>32</td>\n",
              "      <td>392</td>\n",
              "    </tr>\n",
              "    <tr>\n",
              "      <th>2</th>\n",
              "      <td>47</td>\n",
              "      <td>'t'</td>\n",
              "      <td>2019-10-28</td>\n",
              "      <td>18</td>\n",
              "      <td>34</td>\n",
              "      <td>802</td>\n",
              "    </tr>\n",
              "    <tr>\n",
              "      <th>3</th>\n",
              "      <td>47</td>\n",
              "      <td>'h'</td>\n",
              "      <td>2019-10-28</td>\n",
              "      <td>18</td>\n",
              "      <td>34</td>\n",
              "      <td>980</td>\n",
              "    </tr>\n",
              "    <tr>\n",
              "      <th>4</th>\n",
              "      <td>47</td>\n",
              "      <td>'i'</td>\n",
              "      <td>2019-10-28</td>\n",
              "      <td>18</td>\n",
              "      <td>35</td>\n",
              "      <td>018</td>\n",
              "    </tr>\n",
              "  </tbody>\n",
              "</table>\n",
              "</div>"
            ],
            "text/plain": [
              "   minute  keystroke        date hour second millisecond\n",
              "0      47  Key.space  2019-10-28   18     31         596\n",
              "1      47  Key.space  2019-10-28   18     32         392\n",
              "2      47        't'  2019-10-28   18     34         802\n",
              "3      47        'h'  2019-10-28   18     34         980\n",
              "4      47        'i'  2019-10-28   18     35         018"
            ]
          },
          "metadata": {
            "tags": []
          },
          "execution_count": 10
        }
      ]
    },
    {
      "cell_type": "markdown",
      "metadata": {
        "id": "IvW5gDsbTjyR",
        "colab_type": "text"
      },
      "source": [
        "Lets smash these scattered date and time columns to one datetime column"
      ]
    },
    {
      "cell_type": "code",
      "metadata": {
        "id": "q14ZLdhfTqMw",
        "colab_type": "code",
        "outputId": "5cd656fc-3ea6-4df2-b681-6574dce3e99e",
        "colab": {
          "base_uri": "https://localhost:8080/",
          "height": 195
        }
      },
      "source": [
        "KEYLOG_DF['datetime'] = KEYLOG_DF[['date',\n",
        "                                   'hour',\n",
        "                                   'minute',\n",
        "                                   'second',\n",
        "                                   'millisecond']].apply(\n",
        "                                       lambda x: '{} {}:{}:{} {}'.format(\n",
        "                                           x.date,\n",
        "                                           x.hour,\n",
        "                                           x.minute,\n",
        "                                           x.second,\n",
        "                                           x.millisecond),\n",
        "                                      axis = 1 \n",
        "                                   )\n",
        "KEYLOG_DF.head()"
      ],
      "execution_count": 11,
      "outputs": [
        {
          "output_type": "execute_result",
          "data": {
            "text/html": [
              "<div>\n",
              "<style scoped>\n",
              "    .dataframe tbody tr th:only-of-type {\n",
              "        vertical-align: middle;\n",
              "    }\n",
              "\n",
              "    .dataframe tbody tr th {\n",
              "        vertical-align: top;\n",
              "    }\n",
              "\n",
              "    .dataframe thead th {\n",
              "        text-align: right;\n",
              "    }\n",
              "</style>\n",
              "<table border=\"1\" class=\"dataframe\">\n",
              "  <thead>\n",
              "    <tr style=\"text-align: right;\">\n",
              "      <th></th>\n",
              "      <th>minute</th>\n",
              "      <th>keystroke</th>\n",
              "      <th>date</th>\n",
              "      <th>hour</th>\n",
              "      <th>second</th>\n",
              "      <th>millisecond</th>\n",
              "      <th>datetime</th>\n",
              "    </tr>\n",
              "  </thead>\n",
              "  <tbody>\n",
              "    <tr>\n",
              "      <th>0</th>\n",
              "      <td>47</td>\n",
              "      <td>Key.space</td>\n",
              "      <td>2019-10-28</td>\n",
              "      <td>18</td>\n",
              "      <td>31</td>\n",
              "      <td>596</td>\n",
              "      <td>2019-10-28 18:47:31 596</td>\n",
              "    </tr>\n",
              "    <tr>\n",
              "      <th>1</th>\n",
              "      <td>47</td>\n",
              "      <td>Key.space</td>\n",
              "      <td>2019-10-28</td>\n",
              "      <td>18</td>\n",
              "      <td>32</td>\n",
              "      <td>392</td>\n",
              "      <td>2019-10-28 18:47:32 392</td>\n",
              "    </tr>\n",
              "    <tr>\n",
              "      <th>2</th>\n",
              "      <td>47</td>\n",
              "      <td>'t'</td>\n",
              "      <td>2019-10-28</td>\n",
              "      <td>18</td>\n",
              "      <td>34</td>\n",
              "      <td>802</td>\n",
              "      <td>2019-10-28 18:47:34 802</td>\n",
              "    </tr>\n",
              "    <tr>\n",
              "      <th>3</th>\n",
              "      <td>47</td>\n",
              "      <td>'h'</td>\n",
              "      <td>2019-10-28</td>\n",
              "      <td>18</td>\n",
              "      <td>34</td>\n",
              "      <td>980</td>\n",
              "      <td>2019-10-28 18:47:34 980</td>\n",
              "    </tr>\n",
              "    <tr>\n",
              "      <th>4</th>\n",
              "      <td>47</td>\n",
              "      <td>'i'</td>\n",
              "      <td>2019-10-28</td>\n",
              "      <td>18</td>\n",
              "      <td>35</td>\n",
              "      <td>018</td>\n",
              "      <td>2019-10-28 18:47:35 018</td>\n",
              "    </tr>\n",
              "  </tbody>\n",
              "</table>\n",
              "</div>"
            ],
            "text/plain": [
              "   minute  keystroke        date  ... second millisecond                 datetime\n",
              "0      47  Key.space  2019-10-28  ...     31         596  2019-10-28 18:47:31 596\n",
              "1      47  Key.space  2019-10-28  ...     32         392  2019-10-28 18:47:32 392\n",
              "2      47        't'  2019-10-28  ...     34         802  2019-10-28 18:47:34 802\n",
              "3      47        'h'  2019-10-28  ...     34         980  2019-10-28 18:47:34 980\n",
              "4      47        'i'  2019-10-28  ...     35         018  2019-10-28 18:47:35 018\n",
              "\n",
              "[5 rows x 7 columns]"
            ]
          },
          "metadata": {
            "tags": []
          },
          "execution_count": 11
        }
      ]
    },
    {
      "cell_type": "markdown",
      "metadata": {
        "id": "CzYebd5AZ5Q_",
        "colab_type": "text"
      },
      "source": [
        "The above cell that I ran took good amount of time, It can mean two things:\n",
        "1. I am not using correct functions to do that, or\n",
        "2. Doing operation across multiple columns is always costly\n"
      ]
    },
    {
      "cell_type": "markdown",
      "metadata": {
        "id": "28Pwo03DqYec",
        "colab_type": "text"
      },
      "source": [
        "There is still some cleaning to be done in the **keystroke** column as it contains single quote around our data."
      ]
    },
    {
      "cell_type": "code",
      "metadata": {
        "id": "5htCu7tJufFq",
        "colab_type": "code",
        "colab": {}
      },
      "source": [
        "# Going forward if I need to perform any experiment on the shape of \n",
        "# dataframe, so just to be safe that I do not modify the actual dataframe and require me to reload it from the file.\n",
        "copy_keylog = KEYLOG_DF"
      ],
      "execution_count": 0,
      "outputs": []
    },
    {
      "cell_type": "code",
      "metadata": {
        "id": "KFiP_tlHqWui",
        "colab_type": "code",
        "colab": {}
      },
      "source": [
        "KEYLOG_DF.keystroke = KEYLOG_DF.apply(lambda x: x['keystroke'].strip(\"'\"), axis=1)"
      ],
      "execution_count": 0,
      "outputs": []
    },
    {
      "cell_type": "markdown",
      "metadata": {
        "id": "FU5vNFNGYlmL",
        "colab_type": "text"
      },
      "source": [
        "Lets settle at this shape of our dataset.\n",
        "I have two main variables that I thought to have earlier \n",
        "1. datetime\n",
        "2. keystroke\n",
        "\n",
        "other are just some extra variables that might come in handy when doing some calculations , So I am gonna leave them there.\n"
      ]
    },
    {
      "cell_type": "code",
      "metadata": {
        "id": "ePjEevj7Y7w0",
        "colab_type": "code",
        "outputId": "78e0e324-a400-444c-ece6-4b3f6b328f55",
        "colab": {
          "base_uri": "https://localhost:8080/",
          "height": 67
        }
      },
      "source": [
        "KEYLOG_DF.columns"
      ],
      "execution_count": 14,
      "outputs": [
        {
          "output_type": "execute_result",
          "data": {
            "text/plain": [
              "Index(['minute', 'keystroke', 'date', 'hour', 'second', 'millisecond',\n",
              "       'datetime'],\n",
              "      dtype='object')"
            ]
          },
          "metadata": {
            "tags": []
          },
          "execution_count": 14
        }
      ]
    },
    {
      "cell_type": "markdown",
      "metadata": {
        "id": "-588Y5bHZTlW",
        "colab_type": "text"
      },
      "source": [
        "Lets do some cosmetic change, I really don't like the order in which the variables are, \n",
        "lets make them in this order:\n",
        "date, minute, second, millisecond, keystroke \n",
        "I think for **brevity** this is the right order."
      ]
    },
    {
      "cell_type": "code",
      "metadata": {
        "id": "JLlDwhoaZSad",
        "colab_type": "code",
        "outputId": "ebc8ebc0-922b-4600-e229-4987f97a0781",
        "colab": {
          "base_uri": "https://localhost:8080/",
          "height": 343
        }
      },
      "source": [
        "KEYLOG_DF = KEYLOG_DF[['date', 'minute', 'second', 'millisecond', 'keystroke']]\n",
        "copy_keylog = KEYLOG_DF\n",
        "KEYLOG_DF.head(10)"
      ],
      "execution_count": 65,
      "outputs": [
        {
          "output_type": "execute_result",
          "data": {
            "text/html": [
              "<div>\n",
              "<style scoped>\n",
              "    .dataframe tbody tr th:only-of-type {\n",
              "        vertical-align: middle;\n",
              "    }\n",
              "\n",
              "    .dataframe tbody tr th {\n",
              "        vertical-align: top;\n",
              "    }\n",
              "\n",
              "    .dataframe thead th {\n",
              "        text-align: right;\n",
              "    }\n",
              "</style>\n",
              "<table border=\"1\" class=\"dataframe\">\n",
              "  <thead>\n",
              "    <tr style=\"text-align: right;\">\n",
              "      <th></th>\n",
              "      <th>date</th>\n",
              "      <th>minute</th>\n",
              "      <th>second</th>\n",
              "      <th>millisecond</th>\n",
              "      <th>keystroke</th>\n",
              "    </tr>\n",
              "  </thead>\n",
              "  <tbody>\n",
              "    <tr>\n",
              "      <th>0</th>\n",
              "      <td>2019-10-28</td>\n",
              "      <td>47</td>\n",
              "      <td>31</td>\n",
              "      <td>596</td>\n",
              "      <td>Key.space</td>\n",
              "    </tr>\n",
              "    <tr>\n",
              "      <th>1</th>\n",
              "      <td>2019-10-28</td>\n",
              "      <td>47</td>\n",
              "      <td>32</td>\n",
              "      <td>392</td>\n",
              "      <td>Key.space</td>\n",
              "    </tr>\n",
              "    <tr>\n",
              "      <th>2</th>\n",
              "      <td>2019-10-28</td>\n",
              "      <td>47</td>\n",
              "      <td>34</td>\n",
              "      <td>802</td>\n",
              "      <td>T</td>\n",
              "    </tr>\n",
              "    <tr>\n",
              "      <th>3</th>\n",
              "      <td>2019-10-28</td>\n",
              "      <td>47</td>\n",
              "      <td>34</td>\n",
              "      <td>980</td>\n",
              "      <td>H</td>\n",
              "    </tr>\n",
              "    <tr>\n",
              "      <th>4</th>\n",
              "      <td>2019-10-28</td>\n",
              "      <td>47</td>\n",
              "      <td>35</td>\n",
              "      <td>018</td>\n",
              "      <td>I</td>\n",
              "    </tr>\n",
              "    <tr>\n",
              "      <th>5</th>\n",
              "      <td>2019-10-28</td>\n",
              "      <td>47</td>\n",
              "      <td>35</td>\n",
              "      <td>253</td>\n",
              "      <td>S</td>\n",
              "    </tr>\n",
              "    <tr>\n",
              "      <th>6</th>\n",
              "      <td>2019-10-28</td>\n",
              "      <td>47</td>\n",
              "      <td>43</td>\n",
              "      <td>463</td>\n",
              "      <td>Key.alt_l</td>\n",
              "    </tr>\n",
              "    <tr>\n",
              "      <th>7</th>\n",
              "      <td>2019-10-28</td>\n",
              "      <td>47</td>\n",
              "      <td>43</td>\n",
              "      <td>619</td>\n",
              "      <td>Key.up</td>\n",
              "    </tr>\n",
              "    <tr>\n",
              "      <th>8</th>\n",
              "      <td>2019-10-28</td>\n",
              "      <td>47</td>\n",
              "      <td>44</td>\n",
              "      <td>136</td>\n",
              "      <td>Key.alt_l</td>\n",
              "    </tr>\n",
              "    <tr>\n",
              "      <th>9</th>\n",
              "      <td>2019-10-28</td>\n",
              "      <td>47</td>\n",
              "      <td>44</td>\n",
              "      <td>791</td>\n",
              "      <td>Key.left</td>\n",
              "    </tr>\n",
              "  </tbody>\n",
              "</table>\n",
              "</div>"
            ],
            "text/plain": [
              "         date  minute second millisecond  keystroke\n",
              "0  2019-10-28      47     31         596  Key.space\n",
              "1  2019-10-28      47     32         392  Key.space\n",
              "2  2019-10-28      47     34         802          T\n",
              "3  2019-10-28      47     34         980          H\n",
              "4  2019-10-28      47     35         018          I\n",
              "5  2019-10-28      47     35         253          S\n",
              "6  2019-10-28      47     43         463  Key.alt_l\n",
              "7  2019-10-28      47     43         619     Key.up\n",
              "8  2019-10-28      47     44         136  Key.alt_l\n",
              "9  2019-10-28      47     44         791   Key.left"
            ]
          },
          "metadata": {
            "tags": []
          },
          "execution_count": 65
        }
      ]
    },
    {
      "cell_type": "markdown",
      "metadata": {
        "id": "DuvsiwBiacMN",
        "colab_type": "text"
      },
      "source": [
        "This took a while and a whole lot of thinking, But now I think my dataset is ready."
      ]
    },
    {
      "cell_type": "markdown",
      "metadata": {
        "id": "ncVZa0LPalh3",
        "colab_type": "text"
      },
      "source": [
        "Lets see the questions that I want to get answered from this dataset.\n",
        "\n",
        "I have categorized the questions into three levels considered how difficult or \n",
        "easy the're gonna be to answer."
      ]
    },
    {
      "cell_type": "markdown",
      "metadata": {
        "id": "5mwEkfXGa5g9",
        "colab_type": "text"
      },
      "source": [
        "## BASIC ( EASY ) \n",
        "  1. What is the Most used Key ?\n",
        "  2. What is the Least used Key ?\n",
        "  3. What are the most used key combos ( experimental question ) ?\n",
        "---\n",
        "\n",
        "## INTERMEDIATE ( MEDIUM ) \n",
        "\t\n",
        "  1. Frequency distribution of keystrokes ( visualise this )\n",
        "  2. Create keyboard HEATMAP \n",
        "  3. look for pwd ( Experimental )\n",
        "\n",
        "---\n",
        "\n",
        "## ADVANCE ( HARD ) \n",
        "\n",
        "1. Get an idea about active sessions ( time at which i was active ) \n",
        "\t- Generate visuals for my active sessions in a day - ( Define what do you call a visual )\n",
        "\t- What is the average time of the session ? \n",
        "\t\t- WORKDAYS on MON - THU and on FRI (~ bcoz of change in work timings)\n",
        "\t\t- WEEKENDS Sat and Sun\n",
        "\t- Keeping sessions in mind\n",
        "      - Keeping sessions in mind , What is (by far) the first key that I press ?\n",
        "      - find average typing speed \n",
        "\t\tADVANCE use case \n",
        "\t\t- Find average typing speed ( minus the records which include backspace ) i.e, What is average speed for perfect typing ?\n"
      ]
    },
    {
      "cell_type": "markdown",
      "metadata": {
        "id": "0PI_RA-icM7k",
        "colab_type": "text"
      },
      "source": [
        "### Lets start with BASIC\n",
        "First question \n",
        "##1. What is the most key used ?"
      ]
    },
    {
      "cell_type": "markdown",
      "metadata": {
        "id": "SLMR-0C5vLsi",
        "colab_type": "text"
      },
      "source": [
        "#### To answer this question I have to make it case insensitive i.e, a and A are two different values but they are from the same key, So I have to make a and A the same and similarly for every alphabet.\n",
        "\n",
        "> Here I am only considering for alphabet not for keys which can be used with shift to write a different character\n",
        "\n"
      ]
    },
    {
      "cell_type": "code",
      "metadata": {
        "id": "MEaMgkEXxA0b",
        "colab_type": "code",
        "colab": {}
      },
      "source": [
        "KEYLOG_DF_case_insensitive = KEYLOG_DF\n",
        "KEYLOG_DF_case_insensitive.keystroke = KEYLOG_DF.apply(lambda x: x.keystroke.upper() if x.keystroke.isalpha() else x.keystroke, axis=1)"
      ],
      "execution_count": 0,
      "outputs": []
    },
    {
      "cell_type": "code",
      "metadata": {
        "id": "7xaZTQ-gzE2h",
        "colab_type": "code",
        "outputId": "f3379e99-bf53-43d7-c7cc-3c68f17b3b1d",
        "colab": {
          "base_uri": "https://localhost:8080/",
          "height": 195
        }
      },
      "source": [
        "KEYLOG_DF_case_insensitive.head()"
      ],
      "execution_count": 17,
      "outputs": [
        {
          "output_type": "execute_result",
          "data": {
            "text/html": [
              "<div>\n",
              "<style scoped>\n",
              "    .dataframe tbody tr th:only-of-type {\n",
              "        vertical-align: middle;\n",
              "    }\n",
              "\n",
              "    .dataframe tbody tr th {\n",
              "        vertical-align: top;\n",
              "    }\n",
              "\n",
              "    .dataframe thead th {\n",
              "        text-align: right;\n",
              "    }\n",
              "</style>\n",
              "<table border=\"1\" class=\"dataframe\">\n",
              "  <thead>\n",
              "    <tr style=\"text-align: right;\">\n",
              "      <th></th>\n",
              "      <th>date</th>\n",
              "      <th>minute</th>\n",
              "      <th>second</th>\n",
              "      <th>millisecond</th>\n",
              "      <th>keystroke</th>\n",
              "    </tr>\n",
              "  </thead>\n",
              "  <tbody>\n",
              "    <tr>\n",
              "      <th>0</th>\n",
              "      <td>2019-10-28</td>\n",
              "      <td>47</td>\n",
              "      <td>31</td>\n",
              "      <td>596</td>\n",
              "      <td>Key.space</td>\n",
              "    </tr>\n",
              "    <tr>\n",
              "      <th>1</th>\n",
              "      <td>2019-10-28</td>\n",
              "      <td>47</td>\n",
              "      <td>32</td>\n",
              "      <td>392</td>\n",
              "      <td>Key.space</td>\n",
              "    </tr>\n",
              "    <tr>\n",
              "      <th>2</th>\n",
              "      <td>2019-10-28</td>\n",
              "      <td>47</td>\n",
              "      <td>34</td>\n",
              "      <td>802</td>\n",
              "      <td>T</td>\n",
              "    </tr>\n",
              "    <tr>\n",
              "      <th>3</th>\n",
              "      <td>2019-10-28</td>\n",
              "      <td>47</td>\n",
              "      <td>34</td>\n",
              "      <td>980</td>\n",
              "      <td>H</td>\n",
              "    </tr>\n",
              "    <tr>\n",
              "      <th>4</th>\n",
              "      <td>2019-10-28</td>\n",
              "      <td>47</td>\n",
              "      <td>35</td>\n",
              "      <td>018</td>\n",
              "      <td>I</td>\n",
              "    </tr>\n",
              "  </tbody>\n",
              "</table>\n",
              "</div>"
            ],
            "text/plain": [
              "         date  minute second millisecond  keystroke\n",
              "0  2019-10-28      47     31         596  Key.space\n",
              "1  2019-10-28      47     32         392  Key.space\n",
              "2  2019-10-28      47     34         802          T\n",
              "3  2019-10-28      47     34         980          H\n",
              "4  2019-10-28      47     35         018          I"
            ]
          },
          "metadata": {
            "tags": []
          },
          "execution_count": 17
        }
      ]
    },
    {
      "cell_type": "code",
      "metadata": {
        "id": "tvQxMAPXcTvP",
        "colab_type": "code",
        "outputId": "7354c4c3-e8ec-4655-e4d1-498677a1adbd",
        "colab": {
          "base_uri": "https://localhost:8080/",
          "height": 101
        }
      },
      "source": [
        "KEYLOG_DF_case_insensitive.keystroke.describe()"
      ],
      "execution_count": 18,
      "outputs": [
        {
          "output_type": "execute_result",
          "data": {
            "text/plain": [
              "count         682038\n",
              "unique            89\n",
              "top       Key.ctrl_l\n",
              "freq           86478\n",
              "Name: keystroke, dtype: object"
            ]
          },
          "metadata": {
            "tags": []
          },
          "execution_count": 18
        }
      ]
    },
    {
      "cell_type": "code",
      "metadata": {
        "id": "GuKi_cNFeEcw",
        "colab_type": "code",
        "outputId": "918073a5-6c3c-43a2-b46d-aad6e5c15e53",
        "colab": {
          "base_uri": "https://localhost:8080/",
          "height": 218
        }
      },
      "source": [
        "key_press_count_series = KEYLOG_DF_case_insensitive.keystroke.value_counts().apply(\n",
        "    lambda x: np.NaN if x == 1 else int(x)\n",
        "    )\n",
        "key_press_count_series"
      ],
      "execution_count": 19,
      "outputs": [
        {
          "output_type": "execute_result",
          "data": {
            "text/plain": [
              "Key.ctrl_l         86478.0\n",
              "Key.shift          61492.0\n",
              "Key.space          40091.0\n",
              "Key.backspace      34434.0\n",
              "E                  28075.0\n",
              "                    ...   \n",
              "Key.menu               9.0\n",
              "Key.f11                7.0\n",
              "Key.f3                 4.0\n",
              "Key.scroll_lock        3.0\n",
              "<177>                  NaN\n",
              "Name: keystroke, Length: 89, dtype: float64"
            ]
          },
          "metadata": {
            "tags": []
          },
          "execution_count": 19
        }
      ]
    },
    {
      "cell_type": "code",
      "metadata": {
        "id": "D1YdQKkbglHB",
        "colab_type": "code",
        "colab": {}
      },
      "source": [
        "most_used_key = key_press_count_series.idxmax()\n",
        "times_pressed = key_press_count_series.max()"
      ],
      "execution_count": 0,
      "outputs": []
    },
    {
      "cell_type": "code",
      "metadata": {
        "id": "DLzwy8hygzuW",
        "colab_type": "code",
        "outputId": "a0cac22b-ef75-4748-a80d-bec1bab1d73f",
        "colab": {
          "base_uri": "https://localhost:8080/",
          "height": 34
        }
      },
      "source": [
        "print('I have used {} key the most and to be precise \\\n",
        "I have smashed it {} times'.format(\n",
        "    most_used_key,\n",
        "    times_pressed\n",
        "))"
      ],
      "execution_count": 21,
      "outputs": [
        {
          "output_type": "stream",
          "text": [
            "I have used Key.ctrl_l key the most and to be precise I have smashed it 86478.0 times\n"
          ],
          "name": "stdout"
        }
      ]
    },
    {
      "cell_type": "markdown",
      "metadata": {
        "id": "EUtwiyPbhLAW",
        "colab_type": "text"
      },
      "source": [
        "Boo Yeah ! , I have answered my first question. \n",
        "---\n",
        "Lets answer second one \n",
        "\n",
        "##2. What is the least key used ?"
      ]
    },
    {
      "cell_type": "code",
      "metadata": {
        "id": "oNkT_zhRhPeQ",
        "colab_type": "code",
        "colab": {}
      },
      "source": [
        "least_used_key = key_press_count_series.idxmin()\n",
        "times_pressed = key_press_count_series.min()"
      ],
      "execution_count": 0,
      "outputs": []
    },
    {
      "cell_type": "code",
      "metadata": {
        "id": "w6YLjvYlhlCB",
        "colab_type": "code",
        "outputId": "0d2e4d83-797a-4aaa-edd2-ca0a3b858f73",
        "colab": {
          "base_uri": "https://localhost:8080/",
          "height": 34
        }
      },
      "source": [
        "print('I have used {} key the least and to be precise \\\n",
        "I have touched it just {} times'.format(\n",
        "    least_used_key,\n",
        "    times_pressed\n",
        "))"
      ],
      "execution_count": 23,
      "outputs": [
        {
          "output_type": "stream",
          "text": [
            "I have used Key.scroll_lock key the least and to be precise I have touched it just 3.0 times\n"
          ],
          "name": "stdout"
        }
      ]
    },
    {
      "cell_type": "markdown",
      "metadata": {
        "id": "cVGwgmw0pcLO",
        "colab_type": "text"
      },
      "source": [
        "This doesn't seems right, The data said that I have used p,m, and some other alphabets just 1 times.\n",
        "\n",
        "After spending 30 min into this thought, I got to know that i haven't really\n",
        "cleaned my data, the keystroke column contains the keystroke with a single quote\n",
        "around it if the keystroke is alphabet.\n",
        "\n",
        "I'll perform this cleaning now in above cells and Rerun the see the correct answer. \n",
        "\n",
        "I just wrote it here so that I know how important is cleaning and understanding\n",
        "your data before asking questions from it, or else you would get wrong answers\n",
        "simply because your data is not cleaning"
      ]
    },
    {
      "cell_type": "markdown",
      "metadata": {
        "id": "bf-eAMCNrIpO",
        "colab_type": "text"
      },
      "source": [
        "Okay, So I updated my logic as I got one keycode **<177>** as the key which I have pressed just 1 time within last 3 months and I don't but that may be it is some special key combination or something , I have spend quite a time in finding what this keycode or code represent and I am lost I couldn't find what it is for. \n",
        "So, I decided to remove any key which I have touched only once because that really can't be the case that I have touched a key just once. Or it could be but this is what I am going to assume for now \n",
        "\n"
      ]
    },
    {
      "cell_type": "markdown",
      "metadata": {
        "id": "H3wyifzPz3Ln",
        "colab_type": "text"
      },
      "source": [
        "## 3. What are the most used Key combos ? \n",
        "This was an experimental question. And the dataset of keystroke does not log the key combos. So I can not answer this question from my dataset. "
      ]
    },
    {
      "cell_type": "markdown",
      "metadata": {
        "id": "onbKJQxV0gBR",
        "colab_type": "text"
      },
      "source": [
        "## INTERMEDIATE\n",
        "\n",
        "###1. Frequency distribution of keystrokes ( visualize this ) "
      ]
    },
    {
      "cell_type": "markdown",
      "metadata": {
        "id": "EpxY0S8d3TaG",
        "colab_type": "text"
      },
      "source": [
        "Lets do imports for visualizations "
      ]
    },
    {
      "cell_type": "code",
      "metadata": {
        "id": "YQtdzUWM0bg8",
        "colab_type": "code",
        "colab": {}
      },
      "source": [
        "import matplotlib.pyplot as plt"
      ],
      "execution_count": 0,
      "outputs": []
    },
    {
      "cell_type": "code",
      "metadata": {
        "id": "jznGZZcE3ud5",
        "colab_type": "code",
        "colab": {}
      },
      "source": [
        "keystroke_series = KEYLOG_DF_case_insensitive.keystroke.value_counts()\n",
        "keys = list(keystroke_series.keys())\n",
        "frequency = list(keystroke_series.values)"
      ],
      "execution_count": 0,
      "outputs": []
    },
    {
      "cell_type": "code",
      "metadata": {
        "id": "1HORaGDq4JUz",
        "colab_type": "code",
        "outputId": "dd6900e9-b426-4254-eca1-337c8571a227",
        "colab": {
          "base_uri": "https://localhost:8080/",
          "height": 283
        }
      },
      "source": [
        "plt.plot(keys, frequency, 'r-')"
      ],
      "execution_count": 59,
      "outputs": [
        {
          "output_type": "execute_result",
          "data": {
            "text/plain": [
              "[<matplotlib.lines.Line2D at 0x7f5f1ddafa20>]"
            ]
          },
          "metadata": {
            "tags": []
          },
          "execution_count": 59
        },
        {
          "output_type": "display_data",
          "data": {
            "image/png": "[encoded data removed]",
            "text/plain": [
              "<Figure size 432x288 with 1 Axes>"
            ]
          },
          "metadata": {
            "tags": []
          }
        }
      ]
    },
    {
      "cell_type": "markdown",
      "metadata": {
        "id": "HaVK_y2FUQ5d",
        "colab_type": "text"
      },
      "source": [
        "This is the most basic plot that can be plotted. And none of the keystroke name is visible in x-axis, I have to tweak to have a good visual . Because this plot is really useless to ingere anything."
      ]
    },
    {
      "cell_type": "markdown",
      "metadata": {
        "id": "R0_gY9rab846",
        "colab_type": "text"
      },
      "source": [
        "Let's add some other things to our visualisation to make it look better and understandable\n"
      ]
    },
    {
      "cell_type": "code",
      "metadata": {
        "id": "vYisSyNf5Hv2",
        "colab_type": "code",
        "colab": {
          "base_uri": "https://localhost:8080/",
          "height": 309
        },
        "outputId": "2c5d8b14-864b-4d14-bda5-17c649067c58"
      },
      "source": [
        "plt.bar(keys, frequency)\n",
        "plt.ylabel('frequency')\n",
        "plt.xlabel('key name')\n",
        "plt.suptitle('Frequency distribution of keystroke')\n",
        "plt.show()"
      ],
      "execution_count": 60,
      "outputs": [
        {
          "output_type": "display_data",
          "data": {
            "image/png": "[encoded data removed]",
            "text/plain": [
              "<Figure size 432x288 with 1 Axes>"
            ]
          },
          "metadata": {
            "tags": []
          }
        }
      ]
    },
    {
      "cell_type": "markdown",
      "metadata": {
        "id": "ybP5CrHoo40s",
        "colab_type": "text"
      },
      "source": [
        "So now I have created a Bar chart, Lets make it more readable , and try to fit all this information in a chart that can fit in one screen. Remember 105 keys means 105 bars, and all have to fit in one screen and also they have to be readable"
      ]
    },
    {
      "cell_type": "code",
      "metadata": {
        "id": "UHdN2_M2cGAH",
        "colab_type": "code",
        "colab": {
          "base_uri": "https://localhost:8080/",
          "height": 1000
        },
        "outputId": "340e820a-7b31-4cc3-9de4-7fdf7bb8acdd"
      },
      "source": [
        "fig, ax = plt.subplots(nrows=1, ncols=1, figsize=(15,25))\n",
        "ax.barh(keys, frequency, log=True)\n",
        "ax.set_xlabel('frequency')\n",
        "ax.set_ylabel('keys')\n",
        "ax.set_title('Frequency distribution of Keystrokes')\n",
        "# To add the frequency value to top of bar , keeping x = value, and y = index\n",
        "[ax.text(value, index, '{:d}'.format(value)) for index, value in enumerate(frequency)]\n",
        "plt.show()"
      ],
      "execution_count": 89,
      "outputs": [
        {
          "output_type": "display_data",
          "data": {
            "image/png": "[encoded data removed]",
            "text/plain": [
              "<Figure size 1080x1800 with 1 Axes>"
            ]
          },
          "metadata": {
            "tags": []
          }
        }
      ]
    },
    {
      "cell_type": "markdown",
      "metadata": {
        "id": "jN4DqM1KspwY",
        "colab_type": "text"
      },
      "source": [
        "I have visualised frequency distribution of keystroke\n",
        "Just as an add on , I will look if I can make this plot interactive "
      ]
    }
  ]
}